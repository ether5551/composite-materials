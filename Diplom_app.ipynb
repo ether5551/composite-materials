{
 "cells": [
  {
   "cell_type": "markdown",
   "id": "s27fZzO0Ovj3",
   "metadata": {
    "id": "s27fZzO0Ovj3"
   },
   "source": [
    "# Пользовательское приложение для прогнозирования"
   ]
  },
  {
   "cell_type": "code",
   "execution_count": null,
   "id": "s00XU_nPAZcc",
   "metadata": {
    "colab": {
     "base_uri": "https://localhost:8080/"
    },
    "executionInfo": {
     "elapsed": 20485,
     "status": "ok",
     "timestamp": 1679653312626,
     "user": {
      "displayName": "Danil B",
      "userId": "05777854508011151362"
     },
     "user_tz": -180
    },
    "id": "s00XU_nPAZcc",
    "outputId": "726091ef-0f12-4627-aa9e-7cc80e1aff00"
   },
   "outputs": [],
   "source": [
    "# from google.colab import drive\n",
    "# drive.mount('/content/drive')"
   ]
  },
  {
   "cell_type": "code",
   "execution_count": 1,
   "id": "19844c69",
   "metadata": {
    "executionInfo": {
     "elapsed": 4716,
     "status": "ok",
     "timestamp": 1679653333594,
     "user": {
      "displayName": "Danil B",
      "userId": "05777854508011151362"
     },
     "user_tz": -180
    },
    "id": "19844c69"
   },
   "outputs": [],
   "source": [
    "# Импортируем необходимые библиотеки для нашего приложения\n",
    "import numpy as np\n",
    "import tensorflow as tf\n",
    "from tensorflow import keras\n",
    "from flask import Flask, request, render_template\n",
    "\n",
    "import pickle"
   ]
  },
  {
   "cell_type": "code",
   "execution_count": 2,
   "id": "5f0787e8",
   "metadata": {},
   "outputs": [],
   "source": [
    "#!pip install tensorflow"
   ]
  },
  {
   "cell_type": "code",
   "execution_count": 3,
   "id": "e24b3dff",
   "metadata": {
    "executionInfo": {
     "elapsed": 231,
     "status": "ok",
     "timestamp": 1679653336195,
     "user": {
      "displayName": "Danil B",
      "userId": "05777854508011151362"
     },
     "user_tz": -180
    },
    "id": "e24b3dff"
   },
   "outputs": [],
   "source": [
    "#app = Flask(__name__)"
   ]
  },
  {
   "cell_type": "code",
   "execution_count": 2,
   "id": "6453e6fe",
   "metadata": {},
   "outputs": [],
   "source": [
    "app = Flask(__name__, template_folder='templates')"
   ]
  },
  {
   "cell_type": "code",
   "execution_count": 3,
   "id": "3b3a09e4",
   "metadata": {},
   "outputs": [
    {
     "data": {
      "text/plain": [
       "'__main__'"
      ]
     },
     "execution_count": 3,
     "metadata": {},
     "output_type": "execute_result"
    }
   ],
   "source": [
    "__name__"
   ]
  },
  {
   "cell_type": "code",
   "execution_count": 4,
   "id": "RKaE4Zz2BdUj",
   "metadata": {
    "executionInfo": {
     "elapsed": 236,
     "status": "ok",
     "timestamp": 1679653684378,
     "user": {
      "displayName": "Danil B",
      "userId": "05777854508011151362"
     },
     "user_tz": -180
    },
    "id": "RKaE4Zz2BdUj"
   },
   "outputs": [],
   "source": [
    "# model_neuron_path_colab = \"/content/drive/MyDrive/Colab Notebooks/my_model_neuron\"\n",
    "# html_path_colab = \"/content/drive/MyDrive/Colab Notebooks/index.html\"\n",
    "\n",
    "model_neuron_path = \"my_model_neuron\"\n",
    "html_path = \"My_index.html\"\n",
    "html_path = \"index.html\""
   ]
  },
  {
   "cell_type": "code",
   "execution_count": 5,
   "id": "0be09815",
   "metadata": {
    "executionInfo": {
     "elapsed": 2,
     "status": "ok",
     "timestamp": 1679653396903,
     "user": {
      "displayName": "Danil B",
      "userId": "05777854508011151362"
     },
     "user_tz": -180
    },
    "id": "0be09815"
   },
   "outputs": [],
   "source": [
    "# Загружаем модель и определяем параметры функции  -  будущие входы для модели (всего 12 параметров)\n",
    "\n",
    "def set_params(param1, param2, param3, param4, param5, param6, param7, param8, param9, param10, param11, param12):\n",
    "\n",
    "    model = keras.models.load_model(model_neuron_path)\n",
    "    prediction = model.predict([param1, param2, param3, param4, param5, param6, param7, param8, param9, param10, param11, param12])\n",
    "\n",
    "    return prediction[0][0]"
   ]
  },
  {
   "cell_type": "code",
   "execution_count": null,
   "id": "e52d8aed",
   "metadata": {
    "colab": {
     "base_uri": "https://localhost:8080/"
    },
    "executionInfo": {
     "elapsed": 145685,
     "status": "ok",
     "timestamp": 1679653545214,
     "user": {
      "displayName": "Danil B",
      "userId": "05777854508011151362"
     },
     "user_tz": -180
    },
    "id": "e52d8aed",
    "outputId": "d346da0d-02ee-4902-c9df-d9cdbed9cc6a"
   },
   "outputs": [
    {
     "name": "stdout",
     "output_type": "stream",
     "text": [
      " * Serving Flask app '__main__'\n",
      " * Debug mode: off\n"
     ]
    },
    {
     "name": "stderr",
     "output_type": "stream",
     "text": [
      "WARNING: This is a development server. Do not use it in a production deployment. Use a production WSGI server instead.\n",
      " * Running on http://127.0.0.1:5000\n",
      "Press CTRL+C to quit\n"
     ]
    }
   ],
   "source": [
    "@app.route('/', methods=['post', 'get'])\n",
    "\n",
    "def app_calculation():\n",
    "    param_lst = []\n",
    "    message = ''\n",
    "    if request.method == 'POST':\n",
    "        \n",
    "       # получим данные из наших форм и кладем их в список, который затем передадим функции set_params\n",
    "        for i in range(1,13,1):\n",
    "            param = request.form.get(f'param{i}')\n",
    "            param_lst.append(float(param))\n",
    "            \n",
    "        message = set_params(*param_lst)\n",
    "\n",
    "    # указываем шаблон и прототип сайта для вывода    \n",
    "    return render_template(\"My_index.html\", message=message) \n",
    "\n",
    "# Запускаем приложение  \n",
    "\n",
    "app.run()\n",
    "# if __name__==\"__main__\":\n",
    "#     app.run(debug=True)"
   ]
  },
  {
   "cell_type": "code",
   "execution_count": null,
   "id": "bcbde178",
   "metadata": {
    "id": "bcbde178"
   },
   "outputs": [],
   "source": []
  },
  {
   "cell_type": "code",
   "execution_count": null,
   "id": "89069330",
   "metadata": {},
   "outputs": [],
   "source": []
  }
 ],
 "metadata": {
  "colab": {
   "provenance": []
  },
  "kernelspec": {
   "display_name": "Python 3 (ipykernel)",
   "language": "python",
   "name": "python3"
  },
  "language_info": {
   "codemirror_mode": {
    "name": "ipython",
    "version": 3
   },
   "file_extension": ".py",
   "mimetype": "text/x-python",
   "name": "python",
   "nbconvert_exporter": "python",
   "pygments_lexer": "ipython3",
   "version": "3.10.9"
  }
 },
 "nbformat": 4,
 "nbformat_minor": 5
}
